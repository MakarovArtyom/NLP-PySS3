{
 "cells": [
  {
   "cell_type": "code",
   "execution_count": 1,
   "metadata": {},
   "outputs": [],
   "source": [
    "from pyss3 import SS3\n",
    "from pyss3.util import Dataset, Evaluation, span\n",
    "from pyss3.server import Live_Test\n",
    "\n",
    "from sklearn.metrics import accuracy_score"
   ]
  },
  {
   "cell_type": "code",
   "execution_count": 2,
   "metadata": {},
   "outputs": [],
   "source": [
    "import pandas as pd\n",
    "import numpy as np\n",
    "import matplotlib.pyplot as plt\n",
    "import seaborn as sns \n",
    "from sklearn.model_selection import train_test_split\n",
    "from sklearn.utils import shuffle\n",
    "\n",
    "plt.style.use('bmh') # set up matplotlib style \n",
    "\n",
    "%matplotlib inline"
   ]
  },
  {
   "cell_type": "code",
   "execution_count": 3,
   "metadata": {},
   "outputs": [
    {
     "name": "stdout",
     "output_type": "stream",
     "text": [
      "Archive:  train.csv.zip\n",
      "  inflating: toxic_comments/train/train.csv  \n"
     ]
    }
   ],
   "source": [
    "!unzip -u train.csv.zip -d toxic_comments/train"
   ]
  },
  {
   "cell_type": "code",
   "execution_count": 4,
   "metadata": {},
   "outputs": [
    {
     "name": "stdout",
     "output_type": "stream",
     "text": [
      "Archive:  test.csv.zip\n",
      "  inflating: toxic_comments/test/test.csv  \n"
     ]
    }
   ],
   "source": [
    "!unzip -u test.csv.zip -d toxic_comments/test"
   ]
  },
  {
   "cell_type": "code",
   "execution_count": 3,
   "metadata": {},
   "outputs": [],
   "source": [
    "frame = pd.read_csv('toxic_comments/train/train.csv')"
   ]
  },
  {
   "cell_type": "code",
   "execution_count": 4,
   "metadata": {},
   "outputs": [
    {
     "data": {
      "text/html": [
       "<div>\n",
       "<style scoped>\n",
       "    .dataframe tbody tr th:only-of-type {\n",
       "        vertical-align: middle;\n",
       "    }\n",
       "\n",
       "    .dataframe tbody tr th {\n",
       "        vertical-align: top;\n",
       "    }\n",
       "\n",
       "    .dataframe thead th {\n",
       "        text-align: right;\n",
       "    }\n",
       "</style>\n",
       "<table border=\"1\" class=\"dataframe\">\n",
       "  <thead>\n",
       "    <tr style=\"text-align: right;\">\n",
       "      <th></th>\n",
       "      <th>id</th>\n",
       "      <th>target</th>\n",
       "      <th>comment_text</th>\n",
       "      <th>severe_toxicity</th>\n",
       "      <th>obscene</th>\n",
       "      <th>identity_attack</th>\n",
       "      <th>insult</th>\n",
       "      <th>threat</th>\n",
       "      <th>asian</th>\n",
       "      <th>atheist</th>\n",
       "      <th>...</th>\n",
       "      <th>article_id</th>\n",
       "      <th>rating</th>\n",
       "      <th>funny</th>\n",
       "      <th>wow</th>\n",
       "      <th>sad</th>\n",
       "      <th>likes</th>\n",
       "      <th>disagree</th>\n",
       "      <th>sexual_explicit</th>\n",
       "      <th>identity_annotator_count</th>\n",
       "      <th>toxicity_annotator_count</th>\n",
       "    </tr>\n",
       "  </thead>\n",
       "  <tbody>\n",
       "    <tr>\n",
       "      <th>0</th>\n",
       "      <td>59848</td>\n",
       "      <td>0.000000</td>\n",
       "      <td>This is so cool. It's like, 'would you want yo...</td>\n",
       "      <td>0.000000</td>\n",
       "      <td>0.0</td>\n",
       "      <td>0.000000</td>\n",
       "      <td>0.00000</td>\n",
       "      <td>0.0</td>\n",
       "      <td>NaN</td>\n",
       "      <td>NaN</td>\n",
       "      <td>...</td>\n",
       "      <td>2006</td>\n",
       "      <td>rejected</td>\n",
       "      <td>0</td>\n",
       "      <td>0</td>\n",
       "      <td>0</td>\n",
       "      <td>0</td>\n",
       "      <td>0</td>\n",
       "      <td>0.0</td>\n",
       "      <td>0</td>\n",
       "      <td>4</td>\n",
       "    </tr>\n",
       "    <tr>\n",
       "      <th>1</th>\n",
       "      <td>59849</td>\n",
       "      <td>0.000000</td>\n",
       "      <td>Thank you!! This would make my life a lot less...</td>\n",
       "      <td>0.000000</td>\n",
       "      <td>0.0</td>\n",
       "      <td>0.000000</td>\n",
       "      <td>0.00000</td>\n",
       "      <td>0.0</td>\n",
       "      <td>NaN</td>\n",
       "      <td>NaN</td>\n",
       "      <td>...</td>\n",
       "      <td>2006</td>\n",
       "      <td>rejected</td>\n",
       "      <td>0</td>\n",
       "      <td>0</td>\n",
       "      <td>0</td>\n",
       "      <td>0</td>\n",
       "      <td>0</td>\n",
       "      <td>0.0</td>\n",
       "      <td>0</td>\n",
       "      <td>4</td>\n",
       "    </tr>\n",
       "    <tr>\n",
       "      <th>2</th>\n",
       "      <td>59852</td>\n",
       "      <td>0.000000</td>\n",
       "      <td>This is such an urgent design problem; kudos t...</td>\n",
       "      <td>0.000000</td>\n",
       "      <td>0.0</td>\n",
       "      <td>0.000000</td>\n",
       "      <td>0.00000</td>\n",
       "      <td>0.0</td>\n",
       "      <td>NaN</td>\n",
       "      <td>NaN</td>\n",
       "      <td>...</td>\n",
       "      <td>2006</td>\n",
       "      <td>rejected</td>\n",
       "      <td>0</td>\n",
       "      <td>0</td>\n",
       "      <td>0</td>\n",
       "      <td>0</td>\n",
       "      <td>0</td>\n",
       "      <td>0.0</td>\n",
       "      <td>0</td>\n",
       "      <td>4</td>\n",
       "    </tr>\n",
       "    <tr>\n",
       "      <th>3</th>\n",
       "      <td>59855</td>\n",
       "      <td>0.000000</td>\n",
       "      <td>Is this something I'll be able to install on m...</td>\n",
       "      <td>0.000000</td>\n",
       "      <td>0.0</td>\n",
       "      <td>0.000000</td>\n",
       "      <td>0.00000</td>\n",
       "      <td>0.0</td>\n",
       "      <td>NaN</td>\n",
       "      <td>NaN</td>\n",
       "      <td>...</td>\n",
       "      <td>2006</td>\n",
       "      <td>rejected</td>\n",
       "      <td>0</td>\n",
       "      <td>0</td>\n",
       "      <td>0</td>\n",
       "      <td>0</td>\n",
       "      <td>0</td>\n",
       "      <td>0.0</td>\n",
       "      <td>0</td>\n",
       "      <td>4</td>\n",
       "    </tr>\n",
       "    <tr>\n",
       "      <th>4</th>\n",
       "      <td>59856</td>\n",
       "      <td>0.893617</td>\n",
       "      <td>haha you guys are a bunch of losers.</td>\n",
       "      <td>0.021277</td>\n",
       "      <td>0.0</td>\n",
       "      <td>0.021277</td>\n",
       "      <td>0.87234</td>\n",
       "      <td>0.0</td>\n",
       "      <td>0.0</td>\n",
       "      <td>0.0</td>\n",
       "      <td>...</td>\n",
       "      <td>2006</td>\n",
       "      <td>rejected</td>\n",
       "      <td>0</td>\n",
       "      <td>0</td>\n",
       "      <td>0</td>\n",
       "      <td>1</td>\n",
       "      <td>0</td>\n",
       "      <td>0.0</td>\n",
       "      <td>4</td>\n",
       "      <td>47</td>\n",
       "    </tr>\n",
       "  </tbody>\n",
       "</table>\n",
       "<p>5 rows × 45 columns</p>\n",
       "</div>"
      ],
      "text/plain": [
       "      id    target                                       comment_text  \\\n",
       "0  59848  0.000000  This is so cool. It's like, 'would you want yo...   \n",
       "1  59849  0.000000  Thank you!! This would make my life a lot less...   \n",
       "2  59852  0.000000  This is such an urgent design problem; kudos t...   \n",
       "3  59855  0.000000  Is this something I'll be able to install on m...   \n",
       "4  59856  0.893617               haha you guys are a bunch of losers.   \n",
       "\n",
       "   severe_toxicity  obscene  identity_attack   insult  threat  asian  atheist  \\\n",
       "0         0.000000      0.0         0.000000  0.00000     0.0    NaN      NaN   \n",
       "1         0.000000      0.0         0.000000  0.00000     0.0    NaN      NaN   \n",
       "2         0.000000      0.0         0.000000  0.00000     0.0    NaN      NaN   \n",
       "3         0.000000      0.0         0.000000  0.00000     0.0    NaN      NaN   \n",
       "4         0.021277      0.0         0.021277  0.87234     0.0    0.0      0.0   \n",
       "\n",
       "   ...  article_id    rating  funny  wow  sad  likes  disagree  \\\n",
       "0  ...        2006  rejected      0    0    0      0         0   \n",
       "1  ...        2006  rejected      0    0    0      0         0   \n",
       "2  ...        2006  rejected      0    0    0      0         0   \n",
       "3  ...        2006  rejected      0    0    0      0         0   \n",
       "4  ...        2006  rejected      0    0    0      1         0   \n",
       "\n",
       "   sexual_explicit  identity_annotator_count  toxicity_annotator_count  \n",
       "0              0.0                         0                         4  \n",
       "1              0.0                         0                         4  \n",
       "2              0.0                         0                         4  \n",
       "3              0.0                         0                         4  \n",
       "4              0.0                         4                        47  \n",
       "\n",
       "[5 rows x 45 columns]"
      ]
     },
     "execution_count": 4,
     "metadata": {},
     "output_type": "execute_result"
    }
   ],
   "source": [
    "frame.head()"
   ]
  },
  {
   "cell_type": "markdown",
   "metadata": {},
   "source": [
    "## Explanatory data analysis"
   ]
  },
  {
   "cell_type": "markdown",
   "metadata": {},
   "source": [
    "### Toxic/non-toxic frame"
   ]
  },
  {
   "cell_type": "markdown",
   "metadata": {},
   "source": [
    "The data also has several additional toxicity subtype attributes. Models do not need to predict these attributes for the competition, they are included as an additional avenue for research. Subtype attributes are:\n",
    "\n",
    "- severe_toxicity;\n",
    "- obscene;\n",
    "- threat;\n",
    "- insult;\n",
    "- identity_attack;\n",
    "- sexual_explicit."
   ]
  },
  {
   "cell_type": "code",
   "execution_count": 5,
   "metadata": {},
   "outputs": [],
   "source": [
    "severe_toxicity = frame['severe_toxicity'].to_list()\n",
    "obscene = frame['obscene'].to_list()\n",
    "threat = frame['threat'].to_list()\n",
    "insult = frame['insult'].to_list()\n",
    "identity_attack = frame['identity_attack'].to_list()\n",
    "sexual_explicit = frame['sexual_explicit'].to_list()"
   ]
  },
  {
   "cell_type": "code",
   "execution_count": 6,
   "metadata": {},
   "outputs": [],
   "source": [
    "attributes = [severe_toxicity,\n",
    "obscene,\n",
    "threat,\n",
    "insult,\n",
    "identity_attack,\n",
    "sexual_explicit]\n",
    "\n",
    "labels = ['severe_toxicity', 'obscene', 'threat',\n",
    "'insult', 'identity_attack', 'sexual_explicit']"
   ]
  },
  {
   "cell_type": "code",
   "execution_count": 7,
   "metadata": {},
   "outputs": [
    {
     "name": "stdout",
     "output_type": "stream",
     "text": [
      "Attributes distribution - both toxic and non-toxic comments\n"
     ]
    },
    {
     "data": {
      "image/png": "[encoded data removed]",
      "text/plain": [
       "<Figure size 1440x576 with 6 Axes>"
      ]
     },
     "metadata": {
      "needs_background": "light"
     },
     "output_type": "display_data"
    }
   ],
   "source": [
    "fig=plt.figure(figsize=(20, 8))\n",
    "\n",
    "columns = 2\n",
    "rows = 3\n",
    "for i in range(0, columns*rows):\n",
    "    fig.add_subplot(rows, columns, i+1)\n",
    "    ax = sns.distplot(attributes[i])\n",
    "    ax.set_title(labels[i])\n",
    "print('Attributes distribution - both toxic and non-toxic comments')\n",
    "plt.show()"
   ]
  },
  {
   "cell_type": "code",
   "execution_count": 8,
   "metadata": {},
   "outputs": [
    {
     "name": "stdout",
     "output_type": "stream",
     "text": [
      "Serve toxicity examples:\n",
      "[8]\n",
      "Not Serve toxicity examples:\n",
      "[1804866]\n",
      "Obscene examples:\n",
      "[7648]\n",
      "Not obscene examples:\n",
      "[1797226]\n",
      "Threat examples:\n",
      "[2793]\n",
      "Not threat examples:\n",
      "[1802081]\n",
      "Insult examples:\n",
      "[79887]\n",
      "Not Insult examples:\n",
      "[1724987]\n",
      "Identity attack examples:\n",
      "[7633]\n",
      "Identity attack examples:\n",
      "[1797241]\n",
      "Sexual explicit attack examples:\n",
      "[3119]\n",
      "Sexual explicit examples:\n",
      "[1801755]\n"
     ]
    }
   ],
   "source": [
    "print('Serve toxicity examples:')\n",
    "print([sum(x>0.5 for x in severe_toxicity)])\n",
    "print('Not Serve toxicity examples:')\n",
    "print([sum(x<=0.5 for x in severe_toxicity)])\n",
    "\n",
    "print('Obscene examples:')\n",
    "print([sum(x>0.5 for x in obscene)])\n",
    "print('Not obscene examples:')\n",
    "print([sum(x<=0.5 for x in obscene)])\n",
    "\n",
    "print('Threat examples:')\n",
    "print([sum(x>0.5 for x in threat)])\n",
    "print('Not threat examples:')\n",
    "print([sum(x<=0.5 for x in threat)])\n",
    "\n",
    "print('Insult examples:')\n",
    "print([sum(x>0.5 for x in insult)])\n",
    "print('Not Insult examples:')\n",
    "print([sum(x<=0.5 for x in insult)])\n",
    "\n",
    "print('Identity attack examples:')\n",
    "print([sum(x>0.5 for x in identity_attack)])\n",
    "print('Identity attack examples:')\n",
    "print([sum(x<=0.5 for x in identity_attack)])\n",
    "\n",
    "print('Sexual explicit attack examples:')\n",
    "print([sum(x>0.5 for x in sexual_explicit)])\n",
    "print('Sexual explicit examples:')\n",
    "print([sum(x<=0.5 for x in sexual_explicit)])"
   ]
  },
  {
   "cell_type": "markdown",
   "metadata": {},
   "source": [
    "### Toxic frame only"
   ]
  },
  {
   "cell_type": "code",
   "execution_count": 9,
   "metadata": {},
   "outputs": [],
   "source": [
    "frame['is_toxic'] = frame['target'].apply(lambda toxic : +1 if toxic >= 0.5 else 0)"
   ]
  },
  {
   "cell_type": "code",
   "execution_count": 10,
   "metadata": {},
   "outputs": [],
   "source": [
    "toxic_frame = frame[frame['is_toxic'] == 1]"
   ]
  },
  {
   "cell_type": "code",
   "execution_count": 11,
   "metadata": {},
   "outputs": [],
   "source": [
    "severe_toxicity = toxic_frame['severe_toxicity'].to_list()\n",
    "obscene = toxic_frame['obscene'].to_list()\n",
    "threat = toxic_frame['threat'].to_list()\n",
    "insult = toxic_frame['insult'].to_list()\n",
    "identity_attack = toxic_frame['identity_attack'].to_list()\n",
    "sexual_explicit = toxic_frame['sexual_explicit'].to_list()"
   ]
  },
  {
   "cell_type": "code",
   "execution_count": 12,
   "metadata": {},
   "outputs": [],
   "source": [
    "attributes = [severe_toxicity,\n",
    "obscene,\n",
    "threat,\n",
    "insult,\n",
    "identity_attack,\n",
    "sexual_explicit]\n",
    "\n",
    "labels = ['severe_toxicity', 'obscene', 'threat',\n",
    "'insult', 'identity_attack', 'sexual_explicit']"
   ]
  },
  {
   "cell_type": "code",
   "execution_count": 13,
   "metadata": {},
   "outputs": [
    {
     "name": "stdout",
     "output_type": "stream",
     "text": [
      "Attributes distribution - toxic comments only\n"
     ]
    },
    {
     "data": {
      "image/png": "[encoded data removed]",
      "text/plain": [
       "<Figure size 1440x576 with 6 Axes>"
      ]
     },
     "metadata": {
      "needs_background": "light"
     },
     "output_type": "display_data"
    }
   ],
   "source": [
    "fig=plt.figure(figsize=(20, 8))\n",
    "\n",
    "columns = 2\n",
    "rows = 3\n",
    "for i in range(0, columns*rows):\n",
    "    fig.add_subplot(rows, columns, i+1)\n",
    "    ax = sns.distplot(attributes[i])\n",
    "    ax.set_title(labels[i])\n",
    "print('Attributes distribution - toxic comments only')\n",
    "plt.show()"
   ]
  },
  {
   "cell_type": "code",
   "execution_count": 14,
   "metadata": {},
   "outputs": [
    {
     "name": "stdout",
     "output_type": "stream",
     "text": [
      "Serve toxicity examples:\n",
      "[8]\n",
      "Not Serve toxicity examples:\n",
      "[144326]\n",
      "Obscene examples:\n",
      "[7622]\n",
      "Not obscene examples:\n",
      "[136712]\n",
      "Threat examples:\n",
      "[2786]\n",
      "Not threat examples:\n",
      "[141548]\n",
      "Insult examples:\n",
      "[79676]\n",
      "Not Insult examples:\n",
      "[64658]\n",
      "Identity attack examples:\n",
      "[7542]\n",
      "Identity attack examples:\n",
      "[136792]\n",
      "Sexual explicit attack examples:\n",
      "[2962]\n",
      "Sexual explicit examples:\n",
      "[141372]\n"
     ]
    }
   ],
   "source": [
    "print('Serve toxicity examples:')\n",
    "print([sum(x>0.5 for x in severe_toxicity)])\n",
    "print('Not Serve toxicity examples:')\n",
    "print([sum(x<=0.5 for x in severe_toxicity)])\n",
    "\n",
    "print('Obscene examples:')\n",
    "print([sum(x>0.5 for x in obscene)])\n",
    "print('Not obscene examples:')\n",
    "print([sum(x<=0.5 for x in obscene)])\n",
    "\n",
    "print('Threat examples:')\n",
    "print([sum(x>0.5 for x in threat)])\n",
    "print('Not threat examples:')\n",
    "print([sum(x<=0.5 for x in threat)])\n",
    "\n",
    "print('Insult examples:')\n",
    "print([sum(x>0.5 for x in insult)])\n",
    "print('Not Insult examples:')\n",
    "print([sum(x<=0.5 for x in insult)])\n",
    "\n",
    "print('Identity attack examples:')\n",
    "print([sum(x>0.5 for x in identity_attack)])\n",
    "print('Identity attack examples:')\n",
    "print([sum(x<=0.5 for x in identity_attack)])\n",
    "\n",
    "print('Sexual explicit attack examples:')\n",
    "print([sum(x>0.5 for x in sexual_explicit)])\n",
    "print('Sexual explicit examples:')\n",
    "print([sum(x<=0.5 for x in sexual_explicit)])"
   ]
  },
  {
   "cell_type": "markdown",
   "metadata": {},
   "source": [
    "## Baseline Model"
   ]
  },
  {
   "cell_type": "code",
   "execution_count": 15,
   "metadata": {},
   "outputs": [
    {
     "data": {
      "text/plain": [
       "Text(0.5, 1.0, 'Toxic classes')"
      ]
     },
     "execution_count": 15,
     "metadata": {},
     "output_type": "execute_result"
    },
    {
     "data": {
      "image/png": "[encoded data removed]",
      "text/plain": [
       "<Figure size 504x360 with 1 Axes>"
      ]
     },
     "metadata": {
      "needs_background": "light"
     },
     "output_type": "display_data"
    }
   ],
   "source": [
    "fig, ax = plt.subplots(figsize=(7,5))\n",
    "frame['is_toxic'].value_counts().plot.bar() \n",
    "ax.set_xlabel('toxicity')\n",
    "ax.set_title('Toxic classes')"
   ]
  },
  {
   "cell_type": "markdown",
   "metadata": {},
   "source": [
    "###  Class-imbalance handling"
   ]
  },
  {
   "cell_type": "code",
   "execution_count": 16,
   "metadata": {},
   "outputs": [
    {
     "data": {
      "text/plain": [
       "0    92.0\n",
       "1     8.0\n",
       "Name: is_toxic, dtype: float64"
      ]
     },
     "execution_count": 16,
     "metadata": {},
     "output_type": "execute_result"
    }
   ],
   "source": [
    "# display the number of each class in percentage\n",
    "(frame['is_toxic'].value_counts(normalize=True)*100).round(2)"
   ]
  },
  {
   "cell_type": "markdown",
   "metadata": {},
   "source": [
    "Target variable is biased towards **non-toxic** comments.<br>\n",
    "One approach is to make classes equal. "
   ]
  },
  {
   "cell_type": "code",
   "execution_count": 17,
   "metadata": {},
   "outputs": [
    {
     "name": "stdout",
     "output_type": "stream",
     "text": [
      "Positive class ratio: 0.5\n",
      "Negative class ratio: 0.5\n",
      "Entire frame length: 288668\n"
     ]
    }
   ],
   "source": [
    "\"\"\"\n",
    "- split frame into parts based on positive/negarite sentiment\n",
    "- undersample the major class to keep equal size for both\n",
    "- create dataframe with balanced classes\n",
    "\n",
    "\"\"\"\n",
    "toxic_frame = frame[frame['is_toxic']==1]\n",
    "nontoxic_frame = frame[frame['is_toxic']==0]\n",
    "\n",
    "# estimate the size ratio\n",
    "percentage = len(toxic_frame)/float(len(nontoxic_frame))\n",
    "toxic = toxic_frame\n",
    "nontoxic = nontoxic_frame.sample(frac=percentage) # use the same percentage\n",
    "# append negative reviews sample to reduced positive frame \n",
    "data = toxic.append(nontoxic)\n",
    "\n",
    "print(\"Positive class ratio:\", len(nontoxic) / float(len(data)))\n",
    "print(\"Negative class ratio:\", len(toxic) / float(len(data)))\n",
    "print(\"Entire frame length:\", len(data))\n"
   ]
  },
  {
   "cell_type": "code",
   "execution_count": 23,
   "metadata": {},
   "outputs": [],
   "source": [
    "frame = data"
   ]
  },
  {
   "cell_type": "markdown",
   "metadata": {},
   "source": [
    "Now, we can create a **baseline model** to perform classification using text of comments only."
   ]
  },
  {
   "cell_type": "code",
   "execution_count": 25,
   "metadata": {},
   "outputs": [],
   "source": [
    "frame['is_toxic'] = frame['target'].apply(lambda rate : \"toxic\" if rate >= 0.5 else \"non-toxic\")"
   ]
  },
  {
   "cell_type": "code",
   "execution_count": 26,
   "metadata": {},
   "outputs": [],
   "source": [
    "data = frame[['comment_text', 'is_toxic']]"
   ]
  },
  {
   "cell_type": "code",
   "execution_count": 27,
   "metadata": {},
   "outputs": [],
   "source": [
    "X = data['comment_text'].to_list()\n",
    "y = data['is_toxic'].to_list()"
   ]
  },
  {
   "cell_type": "code",
   "execution_count": 28,
   "metadata": {},
   "outputs": [],
   "source": [
    "X_train, X_test, y_train, y_test = train_test_split(\n",
    "    X, y, test_size=0.25, random_state=42)"
   ]
  },
  {
   "cell_type": "markdown",
   "metadata": {},
   "source": [
    "Now let’s create a new instance of the SS3 classifier."
   ]
  },
  {
   "cell_type": "code",
   "execution_count": 29,
   "metadata": {},
   "outputs": [],
   "source": [
    "clf = SS3()"
   ]
  },
  {
   "cell_type": "code",
   "execution_count": 30,
   "metadata": {},
   "outputs": [
    {
     "name": "stdout",
     "output_type": "stream",
     "text": [
      "Smoothness(s): 0.45\n",
      "Significance(l): 0.5\n",
      "Sanction(p): 1\n"
     ]
    }
   ],
   "source": [
    "s, l, p, _ = clf.get_hyperparameters()\n",
    "\n",
    "print(\"Smoothness(s):\", s)\n",
    "print(\"Significance(l):\", l)\n",
    "print(\"Sanction(p):\", p)"
   ]
  },
  {
   "cell_type": "code",
   "execution_count": 31,
   "metadata": {},
   "outputs": [
    {
     "name": "stderr",
     "output_type": "stream",
     "text": [
      "Training on 'toxic': 100%|██████████| 2/2 [00:41<00:00, 20.73s/it]    \n"
     ]
    }
   ],
   "source": [
    "clf.train(X_train, y_train)"
   ]
  },
  {
   "cell_type": "markdown",
   "metadata": {},
   "source": [
    "Note that we don’t have to create any document-term matrix! we are using just the plain `x_train` documents."
   ]
  },
  {
   "cell_type": "markdown",
   "metadata": {},
   "source": [
    "SS3 learns a (spacial kind of) language model for each category and therefore it doesn’t need to create any document-term matrices. In fact, the very concept of “document” becomes irrelevant…"
   ]
  },
  {
   "cell_type": "markdown",
   "metadata": {},
   "source": [
    "Now that the model has been trained, let’s test it using the documents in `x_test`. First, we will do it “in the sklearn’s own way” with."
   ]
  },
  {
   "cell_type": "code",
   "execution_count": 32,
   "metadata": {},
   "outputs": [
    {
     "name": "stderr",
     "output_type": "stream",
     "text": [
      "Classification: 100%|██████████| 72167/72167 [00:01<00:00, 59438.29it/s]  \n"
     ]
    },
    {
     "name": "stdout",
     "output_type": "stream",
     "text": [
      "Accuracy was: 0.7529757368326243\n"
     ]
    }
   ],
   "source": [
    "y_pred = clf.predict(X_test)\n",
    "\n",
    "accuracy = accuracy_score(y_pred, y_test)\n",
    "\n",
    "print(\"Accuracy was:\", accuracy)"
   ]
  },
  {
   "cell_type": "code",
   "execution_count": 33,
   "metadata": {},
   "outputs": [
    {
     "name": "stderr",
     "output_type": "stream",
     "text": [
      "Classification: 100%|██████████| 72167/72167 [00:01<00:00, 61776.40it/s]\n"
     ]
    },
    {
     "name": "stdout",
     "output_type": "stream",
     "text": [
      "\n",
      "              precision    recall  f1-score   support\n",
      "\n",
      "   non-toxic       0.88      0.59      0.71     36239\n",
      "       toxic       0.69      0.92      0.79     35928\n",
      "\n",
      "    accuracy                           0.75     72167\n",
      "   macro avg       0.78      0.75      0.75     72167\n",
      "weighted avg       0.78      0.75      0.75     72167\n",
      "\n",
      "\n",
      " \u001b[1maccuracy\u001b[0m: 0.753\n",
      "\n",
      "\u001b[94m[ updating evaluations cache ]\u001b[0m\n"
     ]
    },
    {
     "data": {
      "image/png": "[encoded data removed]",
      "text/plain": [
       "<Figure size 576x576 with 2 Axes>"
      ]
     },
     "metadata": {
      "needs_background": "light"
     },
     "output_type": "display_data"
    },
    {
     "data": {
      "text/plain": [
       "0.7529757368326243"
      ]
     },
     "execution_count": 33,
     "metadata": {},
     "output_type": "execute_result"
    }
   ],
   "source": [
    "Evaluation.test(clf, X_test, y_test)"
   ]
  },
  {
   "cell_type": "markdown",
   "metadata": {},
   "source": [
    "**Note**: Previously, training on *imbalanced classes* resulted to higher error."
   ]
  },
  {
   "cell_type": "markdown",
   "metadata": {},
   "source": [
    "The advantage of using this built-in function is that with just a single line of code we get:\n",
    "\n",
    "The performance measured in terms of all the well-known metrics (‘accuracy’, ‘precision’, ‘recall’, and ‘f1-score’).\n",
    "\n",
    "A plot showing the obtained confusion matrix, and…\n",
    "\n",
    "Since all the evaluations performed using the Evaluation class are permanently cached, if we ever perform this test again, the evaluation will be skipped and values will be retrieved from the cache storage (saving us a lot of time! when performing long evaluations).\n",
    "\n",
    "As we can see, the performance doesn’t look bad using the default hyperparameter values, however, let’s now manually analyze what our model has actually learned by using the interactive “live test”."
   ]
  },
  {
   "cell_type": "markdown",
   "metadata": {},
   "source": [
    "Remember you can use the options to select “words” as the Description Level if you want to know based on what words, and to what degree, is making classification decisions."
   ]
  },
  {
   "cell_type": "markdown",
   "metadata": {},
   "source": [
    "### Improvement 1: Using `n_gram`"
   ]
  },
  {
   "cell_type": "markdown",
   "metadata": {},
   "source": [
    "When calling the train we will pass an extra argument n_grams=3 to indicate we want SS3 to learn to recognize important words, bigrams, and 3-grams (If you’re curious and want to know how this is actually done by SS3, read the paper “t-SS3: a text classifier with dynamic n-grams for early risk detection over text streams”, preprint available here )."
   ]
  },
  {
   "cell_type": "code",
   "execution_count": 34,
   "metadata": {},
   "outputs": [
    {
     "name": "stderr",
     "output_type": "stream",
     "text": [
      "Training on 'toxic': 100%|██████████| 2/2 [01:39<00:00, 49.98s/it]    \n"
     ]
    }
   ],
   "source": [
    "# now, the argument of n_gram is 3 - feature is extended up to 3 words\n",
    "clf = SS3(name=\"reviews-3grams\")\n",
    "\n",
    "clf.train(X_train, y_train, n_grams=3)  # <-- note the n_grams=3 argument here"
   ]
  },
  {
   "cell_type": "code",
   "execution_count": 36,
   "metadata": {},
   "outputs": [
    {
     "name": "stderr",
     "output_type": "stream",
     "text": [
      "Classification: 100%|██████████| 72167/72167 [01:06<00:00, 1078.59it/s]"
     ]
    },
    {
     "name": "stdout",
     "output_type": "stream",
     "text": [
      "Accuracy: 0.7528648828411878\n"
     ]
    },
    {
     "name": "stderr",
     "output_type": "stream",
     "text": [
      "\n"
     ]
    }
   ],
   "source": [
    "y_pred = clf.predict(X_test)\n",
    "print(\"Accuracy:\", accuracy_score(y_pred, y_test))"
   ]
  },
  {
   "cell_type": "code",
   "execution_count": null,
   "metadata": {},
   "outputs": [
    {
     "name": "stdout",
     "output_type": "stream",
     "text": [
      "\n"
     ]
    }
   ],
   "source": [
    "Live_Test.run(clf, X_test, y_test)"
   ]
  },
  {
   "cell_type": "markdown",
   "metadata": {},
   "source": [
    "### Improvement 2: Hyperparameter Optimization"
   ]
  },
  {
   "cell_type": "markdown",
   "metadata": {},
   "source": [
    "In this section we will see how we can use PySS3’s Evaluation class to perform Hyperparameter optimization, which allows us to find better hyperparameter values for our models. <br>\n",
    "To do this, we will perform grid searches using the `Evaluation.grid_search()` function."
   ]
  },
  {
   "cell_type": "code",
   "execution_count": 39,
   "metadata": {},
   "outputs": [
    {
     "name": "stderr",
     "output_type": "stream",
     "text": [
      "Training on 'toxic': 100%|██████████| 2/2 [00:42<00:00, 21.50s/it]    \n"
     ]
    }
   ],
   "source": [
    "clf = SS3(name=\"toxic-comments\")\n",
    "\n",
    "clf.train(X_train, y_train)"
   ]
  },
  {
   "cell_type": "markdown",
   "metadata": {},
   "source": [
    "The Evaluation.grid_search() takes, for each hyperparameter, the list of values to use in the search, for instance `s=[0.25, 0.5, 0.75, 1]` indicates you want the `grid_search` to try out evaluating the classifier using those 4 values for the sigma (s) hyperparameter. <br>\n",
    "However, for simplicity, instead of using a manually crafted long list of values, we will use the span function we have imported from pyss3.util at the beginning of this notebook. <br>This function will create a list of values for us, giving a lower and upper bound, and the number of elements to be generated. For instance, if we want a list of 6 numbers between 0 and 1, we could use."
   ]
  },
  {
   "cell_type": "code",
   "execution_count": 40,
   "metadata": {},
   "outputs": [
    {
     "data": {
      "text/plain": [
       "array([0. , 0.2, 0.4, 0.6, 0.8, 1. ])"
      ]
     },
     "execution_count": 40,
     "metadata": {},
     "output_type": "execute_result"
    }
   ],
   "source": [
    "span(0, 1, 6)"
   ]
  },
  {
   "cell_type": "markdown",
   "metadata": {},
   "source": [
    "Thus, we will use the following values for each of the three hyperparameters."
   ]
  },
  {
   "cell_type": "code",
   "execution_count": 43,
   "metadata": {},
   "outputs": [],
   "source": [
    "s_vals=span(0.2, 0.8, 6)\n",
    "l_vals=span(0.1, 2, 6)    # [0.1 , 0.48, 0.86, 1.24, 1.62, 2]\n",
    "p_vals=span(0.5, 2, 6)    # [0.5, 0.8, 1.1, 1.4, 1.7, 2"
   ]
  },
  {
   "cell_type": "code",
   "execution_count": 45,
   "metadata": {},
   "outputs": [
    {
     "name": "stderr",
     "output_type": "stream",
     "text": [
      "Grid search: 100%|██████████| 216/216 [11:47<00:00,  3.28s/it]\n"
     ]
    }
   ],
   "source": [
    "# the search should take 2-3 minutes\n",
    "best_s, best_l, best_p, _ = Evaluation.grid_search(\n",
    "    clf, X_test, y_test,\n",
    "    s=s_vals, l=l_vals, p=p_vals,\n",
    "    tag=\"grid search (test)\"  # <-- this is optional! >_<\n",
    ")"
   ]
  },
  {
   "cell_type": "code",
   "execution_count": 46,
   "metadata": {},
   "outputs": [
    {
     "name": "stdout",
     "output_type": "stream",
     "text": [
      "The hyperparameter values that obtained the best Accuracy are:\n",
      "Smoothness(s): 0.32\n",
      "Significance(l): 0.86\n",
      "Sanction(p): 2.0\n"
     ]
    }
   ],
   "source": [
    "print(\"The hyperparameter values that obtained the best Accuracy are:\")\n",
    "print(\"Smoothness(s):\", best_s)\n",
    "print(\"Significance(l):\", best_l)\n",
    "print(\"Sanction(p):\", best_p)"
   ]
  },
  {
   "cell_type": "markdown",
   "metadata": {},
   "source": [
    "And that’s how we found out that these hyperparameter values `(s=0.32, l=0.86, p=2.0)` were going to improve our classifier accuracy."
   ]
  },
  {
   "cell_type": "markdown",
   "metadata": {},
   "source": [
    "Finally, there is an optional (but recommended) step. To make sure the selected hyperparameters generalize well (i.e. are not overfitted to the test set), it is good practice to perform the grid search using k-fold cross-validation on the training set. Thus, we’ll use the k_fold argument of Evaluation.grid_search() to indicate we want to use (stratified) 10-fold cross-validation (k_fold=10), as follows."
   ]
  },
  {
   "cell_type": "code",
   "execution_count": 48,
   "metadata": {},
   "outputs": [
    {
     "name": "stderr",
     "output_type": "stream",
     "text": [
      "[fold 10/10] Grid search: 100%|██████████| 36/36 [01:32<00:00,  2.56s/it]        \n"
     ]
    }
   ],
   "source": [
    "# the search should take 5-8 minutes\n",
    "best_s, best_l, best_p, _ = Evaluation.grid_search(\n",
    "    clf, X_train, y_train,\n",
    "    k_fold=10,\n",
    "    s=s_vals, l=l_vals, p=2.0,\n",
    "    tag=\"grid search (10-fold)\"  # <-- remember this is optional! >_<\n",
    ")"
   ]
  },
  {
   "cell_type": "code",
   "execution_count": 49,
   "metadata": {},
   "outputs": [
    {
     "name": "stdout",
     "output_type": "stream",
     "text": [
      "The hyperparameter values that obtained the best accuracy are:\n",
      "Smoothness(s): 0.32\n",
      "Significance(l): 0.86\n",
      "Sanction(p): 2.0\n"
     ]
    }
   ],
   "source": [
    "print(\"The hyperparameter values that obtained the best accuracy are:\")\n",
    "print(\"Smoothness(s):\", best_s)\n",
    "print(\"Significance(l):\", best_l)\n",
    "print(\"Sanction(p):\", best_p)"
   ]
  },
  {
   "cell_type": "markdown",
   "metadata": {},
   "source": [
    "The same hyperparameter values performed the best on the training data using 10-fold cross-validation. <br>\n",
    "This means we can use the selected hyperparameter values `(s=0.32, l=0.86 and p=2.0)` safely."
   ]
  },
  {
   "cell_type": "markdown",
   "metadata": {},
   "source": [
    "### Training with best tuned parameters"
   ]
  },
  {
   "cell_type": "code",
   "execution_count": 54,
   "metadata": {},
   "outputs": [],
   "source": [
    "clf_b = SS3(name=\"toxic-comments-best-param\")\n",
    "best_s, best_l, best_p, _ = clf.get_hyperparameters()"
   ]
  },
  {
   "cell_type": "code",
   "execution_count": 55,
   "metadata": {},
   "outputs": [
    {
     "name": "stderr",
     "output_type": "stream",
     "text": [
      "Training on 'toxic': 100%|██████████| 2/2 [00:40<00:00, 20.06s/it]    \n"
     ]
    }
   ],
   "source": [
    "clf_b.train(X_train, y_train)"
   ]
  },
  {
   "cell_type": "code",
   "execution_count": 56,
   "metadata": {},
   "outputs": [
    {
     "name": "stderr",
     "output_type": "stream",
     "text": [
      "Classification: 100%|██████████| 72167/72167 [00:01<00:00, 59559.31it/s]  "
     ]
    },
    {
     "name": "stdout",
     "output_type": "stream",
     "text": [
      "Accuracy was: 0.7529757368326243\n"
     ]
    },
    {
     "name": "stderr",
     "output_type": "stream",
     "text": [
      "\n"
     ]
    }
   ],
   "source": [
    "y_pred = clf_b.predict(X_test)\n",
    "\n",
    "accuracy = accuracy_score(y_pred, y_test)\n",
    "\n",
    "print(\"Accuracy was:\", accuracy)"
   ]
  },
  {
   "cell_type": "code",
   "execution_count": 57,
   "metadata": {},
   "outputs": [
    {
     "name": "stdout",
     "output_type": "stream",
     "text": [
      "\n",
      "              precision    recall  f1-score   support\n",
      "\n",
      "   non-toxic       0.88      0.59      0.71     36239\n",
      "       toxic       0.69      0.92      0.79     35928\n",
      "\n",
      "    accuracy                           0.75     72167\n",
      "   macro avg       0.78      0.75      0.75     72167\n",
      "weighted avg       0.78      0.75      0.75     72167\n",
      "\n",
      "\n",
      " \u001b[1maccuracy\u001b[0m: 0.753\n",
      "\n"
     ]
    },
    {
     "data": {
      "image/png": "[encoded data removed]",
      "text/plain": [
       "<Figure size 576x576 with 2 Axes>"
      ]
     },
     "metadata": {
      "needs_background": "light"
     },
     "output_type": "display_data"
    },
    {
     "data": {
      "text/plain": [
       "0.7529757368326243"
      ]
     },
     "execution_count": 57,
     "metadata": {},
     "output_type": "execute_result"
    }
   ],
   "source": [
    "Evaluation.test(clf_b, X_test, y_test)"
   ]
  },
  {
   "cell_type": "code",
   "execution_count": 64,
   "metadata": {},
   "outputs": [
    {
     "data": {
      "text/plain": [
       "True"
      ]
     },
     "execution_count": 64,
     "metadata": {},
     "output_type": "execute_result"
    }
   ],
   "source": [
    "Evaluation.plot()"
   ]
  },
  {
   "cell_type": "code",
   "execution_count": 65,
   "metadata": {},
   "outputs": [
    {
     "name": "stdout",
     "output_type": "stream",
     "text": [
      "\n"
     ]
    }
   ],
   "source": [
    "Live_Test.run(clf_b, X_test, y_test)"
   ]
  },
  {
   "cell_type": "markdown",
   "metadata": {},
   "source": [
    "## Futher reasearch"
   ]
  },
  {
   "cell_type": "markdown",
   "metadata": {},
   "source": [
    "1. Use **metadata** for text - adding attributes to training data;\n",
    "2. Attributes classification - performance for **multi-classification** on attributes (`severe_toxicity`, `obsence`and etc.)"
   ]
  },
  {
   "cell_type": "code",
   "execution_count": null,
   "metadata": {},
   "outputs": [],
   "source": []
  }
 ],
 "metadata": {
  "kernelspec": {
   "display_name": "Python 3",
   "language": "python",
   "name": "python3"
  },
  "language_info": {
   "codemirror_mode": {
    "name": "ipython",
    "version": 3
   },
   "file_extension": ".py",
   "mimetype": "text/x-python",
   "name": "python",
   "nbconvert_exporter": "python",
   "pygments_lexer": "ipython3",
   "version": "3.8.1"
  }
 },
 "nbformat": 4,
 "nbformat_minor": 2
}
